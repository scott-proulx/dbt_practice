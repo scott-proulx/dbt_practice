{
 "cells": [
  {
   "cell_type": "markdown",
   "id": "b96f8095-83cc-4c82-8ea6-420ce09009f9",
   "metadata": {},
   "source": [
    "# Data Exploration -- Netflix Data\n",
    "\n",
    "In this notebook, we will explore the schema and some of the data in the Netflix files. Both input and sample output."
   ]
  }
 ],
 "metadata": {
  "kernelspec": {
   "display_name": "Python 3 (ipykernel)",
   "language": "python",
   "name": "python3"
  },
  "language_info": {
   "codemirror_mode": {
    "name": "ipython",
    "version": 3
   },
   "file_extension": ".py",
   "mimetype": "text/x-python",
   "name": "python",
   "nbconvert_exporter": "python",
   "pygments_lexer": "ipython3",
   "version": "3.11.9"
  }
 },
 "nbformat": 4,
 "nbformat_minor": 5
}
