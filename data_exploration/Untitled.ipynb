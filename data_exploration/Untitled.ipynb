{
 "cells": [
  {
   "cell_type": "markdown",
   "id": "59b37c80-f4bf-42a1-ac8e-764eeca4400f",
   "metadata": {},
   "source": [
    "# Change CSV Delimiters\n",
    "The delimiters of our input files are found in the content, so we will change the delimiter.\n",
    "We will change from ',' to '}'."
   ]
  },
  {
   "cell_type": "code",
   "execution_count": 1,
   "id": "7c62102c-6edb-4aed-b6de-7efbced4037b",
   "metadata": {},
   "outputs": [],
   "source": [
    "import pandas as pd"
   ]
  },
  {
   "cell_type": "code",
   "execution_count": 8,
   "id": "d1989c0c-da6f-494a-ac9c-937be2aa69d5",
   "metadata": {},
   "outputs": [],
   "source": [
    "input_data_folder = 'data/input_data/'  # Input data folder\n",
    "output_folder = 'data/input_data_delimiter_changed/'  # Output data folder\n",
    "\n",
    "file_raw_credits = input_data_folder + 'raw_credits.csv' # Raw credits file\n",
    "file_raw_titles = input_data_folder + 'raw_titles.csv' # Raw titles file\n",
    "\n",
    "file_output_raw_credits = output_folder + 'raw_credits.csv' # Raw credits file, delimiter changed\n",
    "file_output_raw_titles = output_folder + 'raw_titles.csv' # Raw titles file, delimiter changed"
   ]
  },
  {
   "cell_type": "code",
   "execution_count": 7,
   "id": "a944ed94-f530-4fa7-9910-75cbc6238cb2",
   "metadata": {},
   "outputs": [],
   "source": [
    "df_raw_credits = pd.read_csv(file_raw_credits)\n",
    "df_raw_titles = pd.read_csv(file_raw_titles)"
   ]
  },
  {
   "cell_type": "code",
   "execution_count": 9,
   "id": "18c16a63-0c3d-4412-90f6-1230a84e0de1",
   "metadata": {},
   "outputs": [],
   "source": [
    "# Write to files delimited by '}'\n",
    "df_raw_credits.to_csv(file_output_raw_credits, sep='}')\n",
    "df_raw_titles.to_csv(file_output_raw_titles, sep='}')"
   ]
  },
  {
   "cell_type": "code",
   "execution_count": null,
   "id": "3e08210d-f364-4425-b63c-ef418c0b89b5",
   "metadata": {},
   "outputs": [],
   "source": []
  }
 ],
 "metadata": {
  "kernelspec": {
   "display_name": "Python 3 (ipykernel)",
   "language": "python",
   "name": "python3"
  },
  "language_info": {
   "codemirror_mode": {
    "name": "ipython",
    "version": 3
   },
   "file_extension": ".py",
   "mimetype": "text/x-python",
   "name": "python",
   "nbconvert_exporter": "python",
   "pygments_lexer": "ipython3",
   "version": "3.11.9"
  }
 },
 "nbformat": 4,
 "nbformat_minor": 5
}
